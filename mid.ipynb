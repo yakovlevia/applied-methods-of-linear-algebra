{
  "nbformat": 4,
  "nbformat_minor": 0,
  "metadata": {
    "colab": {
      "provenance": []
    },
    "kernelspec": {
      "name": "python3",
      "display_name": "Python 3"
    },
    "language_info": {
      "name": "python"
    }
  },
  "cells": [
    {
      "cell_type": "markdown",
      "source": [
        "#1. Найти SVD разложение для матрицы"
      ],
      "metadata": {
        "id": "axGCEL391FyP"
      }
    },
    {
      "cell_type": "markdown",
      "source": [
        "Сингулярное разложение матрицы $A_{m,n} = U \\Sigma V^T$, где\n",
        "\n",
        "* $U -$ унитарная матрица размера $m$, состоящая из левых сингулярных векторов,\n",
        "* $V -$ унитарная размера n из правых сингулярных векторов,\n",
        "* $Σ$ - диагональная матрица размера $m$ на $n$, на главной диагонали которой стоят сингулярные числа $A^TA$,\n",
        "\n",
        "Для ее нахождения нужно найти сингулярные вектора и посчитать сингулярные числа соответвенных матриц."
      ],
      "metadata": {
        "id": "ACnbY9GtOUl_"
      }
    },
    {
      "cell_type": "code",
      "execution_count": null,
      "metadata": {
        "colab": {
          "base_uri": "https://localhost:8080/",
          "height": 437
        },
        "id": "CZ6ltW_zzHY0",
        "outputId": "bfa28596-ceee-4d64-8339-a271c0fce6a7"
      },
      "outputs": [
        {
          "output_type": "stream",
          "name": "stdout",
          "text": [
            "Матрица U:\n"
          ]
        },
        {
          "output_type": "display_data",
          "data": {
            "text/plain": [
              "Matrix([\n",
              "[ 0.666666666666667, -0.333333333333333, 0.666666666666667],\n",
              "[-0.666666666666667, -0.666666666666667, 0.333333333333333],\n",
              "[-0.333333333333333,  0.666666666666667, 0.666666666666667]])"
            ],
            "text/latex": "$\\displaystyle \\left[\\begin{matrix}0.666666666666667 & -0.333333333333333 & 0.666666666666667\\\\-0.666666666666667 & -0.666666666666667 & 0.333333333333333\\\\-0.333333333333333 & 0.666666666666667 & 0.666666666666667\\end{matrix}\\right]$"
          },
          "metadata": {}
        },
        {
          "output_type": "stream",
          "name": "stdout",
          "text": [
            "\n",
            "Собственные значения (диагональ S):\n"
          ]
        },
        {
          "output_type": "display_data",
          "data": {
            "text/plain": [
              "Matrix([\n",
              "[162.0,    0,    0, 0],\n",
              "[    0, 54.0,    0, 0],\n",
              "[    0,    0, 27.0, 0]])"
            ],
            "text/latex": "$\\displaystyle \\left[\\begin{matrix}162.0 & 0 & 0 & 0\\\\0 & 54.0 & 0 & 0\\\\0 & 0 & 27.0 & 0\\end{matrix}\\right]$"
          },
          "metadata": {}
        },
        {
          "output_type": "stream",
          "name": "stdout",
          "text": [
            "\n",
            "Матрица Vt (транспонированная V):\n"
          ]
        },
        {
          "output_type": "display_data",
          "data": {
            "text/plain": [
              "Matrix([\n",
              "[               0.0,    -0.777777777777778,    0.444444444444444,    0.444444444444444],\n",
              "[ 0.444444444444445,     0.444444444444444,    0.777777777777777, 2.22044604925031e-16],\n",
              "[-0.777777777777778, -1.11022302462516e-16,    0.444444444444444,   -0.444444444444445],\n",
              "[-0.444444444444445,     0.444444444444444, 8.32667268468867e-17,    0.777777777777778]])"
            ],
            "text/latex": "$\\displaystyle \\left[\\begin{matrix}0.0 & -0.777777777777778 & 0.444444444444444 & 0.444444444444444\\\\0.444444444444445 & 0.444444444444444 & 0.777777777777777 & 2.22044604925031 \\cdot 10^{-16}\\\\-0.777777777777778 & -1.11022302462516 \\cdot 10^{-16} & 0.444444444444444 & -0.444444444444445\\\\-0.444444444444445 & 0.444444444444444 & 8.32667268468867 \\cdot 10^{-17} & 0.777777777777778\\end{matrix}\\right]$"
          },
          "metadata": {}
        },
        {
          "output_type": "stream",
          "name": "stdout",
          "text": [
            "\n",
            "Результат умножения:\n"
          ]
        },
        {
          "output_type": "display_data",
          "data": {
            "text/plain": [
              "Matrix([\n",
              "[           -22.0, -92.0,  42.0,  40.0],\n",
              "[           -23.0,  68.0, -72.0, -52.0],\n",
              "[2.00000000000001,  58.0,  12.0, -32.0]])"
            ],
            "text/latex": "$\\displaystyle \\left[\\begin{matrix}-22.0 & -92.0 & 42.0 & 40.0\\\\-23.0 & 68.0 & -72.0 & -52.0\\\\2.00000000000001 & 58.0 & 12.0 & -32.0\\end{matrix}\\right]$"
          },
          "metadata": {}
        },
        {
          "output_type": "stream",
          "name": "stdout",
          "text": [
            "\n",
            "\n"
          ]
        }
      ],
      "source": [
        "import numpy as np\n",
        "import sympy as sp\n",
        "\n",
        "\n",
        "A = np.matrix([[-22, -92, 42, 40],\n",
        "              [-23, 68, -72, -52],\n",
        "              [2, 58, 12, -32]])\n",
        "\n",
        "\n",
        "U, S, Vt = np.linalg.svd(A)\n",
        "\n",
        "U_sympy = sp.Matrix(U)\n",
        "\n",
        "S_sympy = sp.zeros(U.shape[0], Vt.shape[0])\n",
        "for i in range(len(S)):\n",
        "    S_sympy[i, i] = S[i]\n",
        "\n",
        "Vt_sympy = sp.Matrix(Vt)\n",
        "\n",
        "\n",
        "print(\"Матрица U:\")\n",
        "display(U_sympy)\n",
        "print(\"\\nСобственные значения (диагональ S):\")\n",
        "display(S_sympy)\n",
        "print(\"\\nМатрица Vt (транспонированная V):\")\n",
        "display(Vt_sympy)\n",
        "print(\"\\nРезультат умножения:\")\n",
        "display(U_sympy @ S_sympy @ Vt_sympy)\n",
        "print(\"\\n\")"
      ]
    },
    {
      "cell_type": "markdown",
      "source": [
        "#2. Найти разложение полного ранга и псевдообратную матрицу для $A$"
      ],
      "metadata": {
        "id": "-zYsZcG01GXg"
      }
    },
    {
      "cell_type": "markdown",
      "source": [
        "Чтобы найти скелетное разложение $A = BC$, сначала приведем матрицу к приведенному ступенчатому виду.\n",
        "\n",
        "$A =$\n",
        "$\\begin{pmatrix}\n",
        "4 & 13 & -7\\\\\n",
        "-1 & -2 & 8\\\\\n",
        "-2 & -5 & 11\\\\\n",
        "-3 & 10 & -4\\\\\n",
        "\\end{pmatrix}\n",
        "$\n",
        "~\n",
        "$\n",
        "\\begin{pmatrix}\n",
        "1 & \\frac{13}{4} & \\frac{7}{4}\\\\\n",
        "0 & 1 & 5\\\\\n",
        "0 & 1 & 5\\\\\n",
        "0 & 1 & 5\\\\\n",
        "\\end{pmatrix}$\n",
        "~\n",
        "$\n",
        "\\begin{pmatrix}\n",
        "1 & 0 & -18\\\\\n",
        "0 & 1 & 5\\\\\n",
        "\\end{pmatrix}$\n",
        "\n",
        "После этого из столбцов приведенной матрицы составим $B$ и запишем $C$.\n",
        "\n",
        "$B = \\begin{pmatrix}\n",
        "4 & 13\\\\\n",
        "-1 & -2\\\\\n",
        "-2 & -5\\\\\n",
        "-3 & 10\\\\\n",
        "\\end{pmatrix}\n",
        ", $\n",
        "$C = \\begin{pmatrix}\n",
        "1 & 0 & -18\\\\\n",
        "0 & 1 & 5\\\\\n",
        "\\end{pmatrix}$"
      ],
      "metadata": {
        "id": "DyumdEgiPRbT"
      }
    },
    {
      "cell_type": "code",
      "source": [
        "import numpy as np\n",
        "from numpy.linalg import matrix_rank, pinv\n",
        "import sympy as sp\n",
        "\n",
        "A = np.matrix([\n",
        "    [4, 13, -7],\n",
        "    [-1, -2, 8],\n",
        "    [-2, -5, 11],\n",
        "    [3, 10, -4]\n",
        "])\n",
        "\n",
        "C = np.matrix([\n",
        "    [1, 0, -18],\n",
        "    [0, 1, 5],\n",
        "])\n",
        "\n",
        "B = A[:, [0, 1]]\n",
        "\n",
        "\n",
        "B_sympy = sp.Matrix(B)\n",
        "C_sympy = sp.Matrix(C)\n",
        "\n",
        "print(\"\\nМатрица B:\")\n",
        "display(B_sympy)\n",
        "print(\"\\nМатрица C:\")\n",
        "display(C_sympy)\n",
        "print(\"\\nПроверка A = B * C:\")\n",
        "display(B_sympy * C_sympy)\n",
        "print(\"\\n\")"
      ],
      "metadata": {
        "colab": {
          "base_uri": "https://localhost:8080/",
          "height": 359
        },
        "id": "f3FSKCwR50y_",
        "outputId": "d6ba9199-de56-41f3-9228-f54130fee11d"
      },
      "execution_count": null,
      "outputs": [
        {
          "output_type": "stream",
          "name": "stdout",
          "text": [
            "\n",
            "Матрица B:\n"
          ]
        },
        {
          "output_type": "display_data",
          "data": {
            "text/plain": [
              "Matrix([\n",
              "[ 4, 13],\n",
              "[-1, -2],\n",
              "[-2, -5],\n",
              "[ 3, 10]])"
            ],
            "text/latex": "$\\displaystyle \\left[\\begin{matrix}4 & 13\\\\-1 & -2\\\\-2 & -5\\\\3 & 10\\end{matrix}\\right]$"
          },
          "metadata": {}
        },
        {
          "output_type": "stream",
          "name": "stdout",
          "text": [
            "\n",
            "Матрица C:\n"
          ]
        },
        {
          "output_type": "display_data",
          "data": {
            "text/plain": [
              "Matrix([\n",
              "[1, 0, -18],\n",
              "[0, 1,   5]])"
            ],
            "text/latex": "$\\displaystyle \\left[\\begin{matrix}1 & 0 & -18\\\\0 & 1 & 5\\end{matrix}\\right]$"
          },
          "metadata": {}
        },
        {
          "output_type": "stream",
          "name": "stdout",
          "text": [
            "\n",
            "Проверка A = B * C:\n"
          ]
        },
        {
          "output_type": "display_data",
          "data": {
            "text/plain": [
              "Matrix([\n",
              "[ 4, 13, -7],\n",
              "[-1, -2,  8],\n",
              "[-2, -5, 11],\n",
              "[ 3, 10, -4]])"
            ],
            "text/latex": "$\\displaystyle \\left[\\begin{matrix}4 & 13 & -7\\\\-1 & -2 & 8\\\\-2 & -5 & 11\\\\3 & 10 & -4\\end{matrix}\\right]$"
          },
          "metadata": {}
        },
        {
          "output_type": "stream",
          "name": "stdout",
          "text": [
            "\n",
            "\n"
          ]
        }
      ]
    },
    {
      "cell_type": "markdown",
      "source": [
        "Псевдообратную матрицу можно найти таким способом по Муру-Пенроузу:\n",
        "\n",
        "$$A^+ = C^+ B^+ = C^*(CC^*)^{-1} (B^*B)^{-1}B^*$$"
      ],
      "metadata": {
        "id": "2eE1lHtBSzVQ"
      }
    },
    {
      "cell_type": "code",
      "source": [
        "A_pseudo_inv = np.linalg.pinv(A)\n",
        "\n",
        "C_plus = C.T @ np.linalg.inv(C @ C.T)\n",
        "B_plus = np.linalg.inv(B.T @ B) @ B.T\n",
        "A_plus = C_plus @ B_plus\n",
        "\n",
        "A_sympy1 = sp.Matrix(A_plus)\n",
        "A_sympy2 = sp.Matrix(A_pseudo_inv)\n",
        "\n",
        "print(\"Обратная матрица\")\n",
        "display(A_sympy1)\n",
        "print(\"Проверка:\")\n",
        "display(A_sympy2)\n",
        "print(\"\\n\")"
      ],
      "metadata": {
        "colab": {
          "base_uri": "https://localhost:8080/",
          "height": 208
        },
        "id": "tA1cKb7iz1Pe",
        "outputId": "dff27247-4e91-4cbc-949d-a278ef9b0488"
      },
      "execution_count": null,
      "outputs": [
        {
          "output_type": "stream",
          "name": "stdout",
          "text": [
            "Обратная матрица\n"
          ]
        },
        {
          "output_type": "display_data",
          "data": {
            "text/plain": [
              "Matrix([\n",
              "[0.0131868131868132, 0.00549450549450553, 0.00395604395604399, 0.0116483516483517],\n",
              "[0.0508241758241759,  0.0315934065934067,  0.0277472527472528, 0.0469780219780222],\n",
              "[0.0167582417582418,  0.0590659340659339,  0.0675274725274724, 0.0252197802197802]])"
            ],
            "text/latex": "$\\displaystyle \\left[\\begin{matrix}0.0131868131868132 & 0.00549450549450553 & 0.00395604395604399 & 0.0116483516483517\\\\0.0508241758241759 & 0.0315934065934067 & 0.0277472527472528 & 0.0469780219780222\\\\0.0167582417582418 & 0.0590659340659339 & 0.0675274725274724 & 0.0252197802197802\\end{matrix}\\right]$"
          },
          "metadata": {}
        },
        {
          "output_type": "stream",
          "name": "stdout",
          "text": [
            "Проверка:\n"
          ]
        },
        {
          "output_type": "display_data",
          "data": {
            "text/plain": [
              "Matrix([\n",
              "[0.0131868131868132, 0.0054945054945055, 0.00395604395604397, 0.0116483516483517],\n",
              "[0.0508241758241759, 0.0315934065934066,  0.0277472527472528,  0.046978021978022],\n",
              "[0.0167582417582418, 0.0590659340659341,  0.0675274725274726, 0.0252197802197803]])"
            ],
            "text/latex": "$\\displaystyle \\left[\\begin{matrix}0.0131868131868132 & 0.0054945054945055 & 0.00395604395604397 & 0.0116483516483517\\\\0.0508241758241759 & 0.0315934065934066 & 0.0277472527472528 & 0.046978021978022\\\\0.0167582417582418 & 0.0590659340659341 & 0.0675274725274726 & 0.0252197802197803\\end{matrix}\\right]$"
          },
          "metadata": {}
        },
        {
          "output_type": "stream",
          "name": "stdout",
          "text": [
            "\n",
            "\n"
          ]
        }
      ]
    },
    {
      "cell_type": "markdown",
      "source": [
        "#3. Среди всех приближений решения следующей системы по методу наименьших квадратов найти решение наименьшей длины"
      ],
      "metadata": {
        "id": "AGF-AmdG1G8m"
      }
    },
    {
      "cell_type": "markdown",
      "source": [
        "Решением наименьшей длины будет псевдорешение по Муру-Пенроузу."
      ],
      "metadata": {
        "id": "uDIeWJRPYM4l"
      }
    },
    {
      "cell_type": "markdown",
      "source": [
        "Приведем $A$ к приведенному ступенчатому виду\n",
        "\n",
        "$A =$\n",
        "$\\begin{pmatrix}\n",
        "4 & 6 & 12 & 14\\\\\n",
        "3 & 5 & 7 & 13\\\\\n",
        "-2 & 0 &-15 & 11\\\\\n",
        "-1 & 1 & -12 & 10\\\\\n",
        "\\end{pmatrix}\n",
        "$\n",
        "~\n",
        "$\n",
        "\\begin{pmatrix}\n",
        "1 & \\frac{3}{2} & 3 & \\frac{7}{2}\\\\\n",
        "0 & 1 & -4 & 5\\\\\n",
        "0 & 1 & -3 & 6\\\\\n",
        "0 & 1 & \\frac{18}{5} & \\frac{27}{5}\\\\\n",
        "\\end{pmatrix}\n",
        "$\n",
        "~\n",
        "$\n",
        "\\begin{pmatrix}\n",
        "1 & \\frac{3}{2} & 3 & \\frac{7}{2}\\\\\n",
        "0 & 1 & -4 & 5\\\\\n",
        "0 & 0 & 1 & 1\\\\\n",
        "0 & 0 & 1 & 1\\\\\n",
        "\\end{pmatrix}\n",
        "$\n",
        "~\n",
        "$\n",
        "\\begin{pmatrix}\n",
        "1 & 0 & 0 & -13\\\\\n",
        "0 & 1 & 0 & 9\\\\\n",
        "0 & 0 & 1 & 1\\\\\n",
        "\\end{pmatrix}\n",
        "$\n",
        "\n",
        "После этого из столбцов изначальной матрицы составим $F$ и запишем $G$.\n",
        "\n",
        "$F =  \\begin{pmatrix}\n",
        "4 & 6 & 12\\\\\n",
        "3 & 5 & 7\\\\\n",
        "-2 & 0 &-15\\\\\n",
        "-1 & 1 & -12\\\\\n",
        "\\end{pmatrix}\n",
        ", $\n",
        "$\n",
        "G = \\begin{pmatrix}\n",
        "1 & 0 & 0 & -13\\\\\n",
        "0 & 1 & 0 & 9\\\\\n",
        "0 & 0 & 1 & 1\\\\\n",
        "\\end{pmatrix}\n",
        "$\n",
        "\n",
        "Аналогично предыдущему заданию найдем псведообратную матрицу.\n",
        "Решением задачи будет $X = A^+ b$"
      ],
      "metadata": {
        "id": "tKLVGtR1YdYs"
      }
    },
    {
      "cell_type": "code",
      "source": [
        "A = np.matrix([[4, 6, 12, 14],\n",
        "              [3, 5, 7, 13],\n",
        "              [-2, 0, -15, 11],\n",
        "              [-1, 1, -12, 10]])\n",
        "\n",
        "b = np.matrix([9, 5, 1, 9]).T\n",
        "\n",
        "G = np.matrix([[1, 0, 0, -13],\n",
        "               [0, 1, 0, 9],\n",
        "               [0, 0, 1, 1]])\n",
        "\n",
        "F = A[:, [0, 1, 2]]\n",
        "\n",
        "\n",
        "\n",
        "G_plus = G.T @ np.linalg.inv(G @ G.T)\n",
        "F_plus = np.linalg.inv(F.T @ F) @ F.T\n",
        "A_psevd_inv = G_plus @ F_plus\n",
        "answer = A_psevd_inv @ b\n",
        "\n",
        "x, _, _, _ = np.linalg.lstsq(A, b, rcond=None)\n",
        "\n",
        "print(\"Решение наименьшей длины:\")\n",
        "display(sp.Matrix(answer))\n",
        "print(\"\\nПроверка:\")\n",
        "display(sp.Matrix(x))\n",
        "print(\"\\n\")"
      ],
      "metadata": {
        "colab": {
          "base_uri": "https://localhost:8080/",
          "height": 266
        },
        "id": "mgXIx7nA0ALE",
        "outputId": "c6dc2a55-353c-4f9a-e2ca-dcdbdfdcb89d"
      },
      "execution_count": null,
      "outputs": [
        {
          "output_type": "stream",
          "name": "stdout",
          "text": [
            "Решение наименьшей длины:\n"
          ]
        },
        {
          "output_type": "display_data",
          "data": {
            "text/plain": [
              "Matrix([\n",
              "[ 4.49909297052132],\n",
              "[ 6.52040816326499],\n",
              "[-2.04058956916094],\n",
              "[-1.84512471655319]])"
            ],
            "text/latex": "$\\displaystyle \\left[\\begin{matrix}4.49909297052132\\\\6.52040816326499\\\\-2.04058956916094\\\\-1.84512471655319\\end{matrix}\\right]$"
          },
          "metadata": {}
        },
        {
          "output_type": "stream",
          "name": "stdout",
          "text": [
            "\n",
            "Проверка:\n"
          ]
        },
        {
          "output_type": "display_data",
          "data": {
            "text/plain": [
              "Matrix([\n",
              "[ 4.49909297052154],\n",
              "[ 6.52040816326531],\n",
              "[  -2.040589569161],\n",
              "[-1.84512471655329]])"
            ],
            "text/latex": "$\\displaystyle \\left[\\begin{matrix}4.49909297052154\\\\6.52040816326531\\\\-2.040589569161\\\\-1.84512471655329\\end{matrix}\\right]$"
          },
          "metadata": {}
        },
        {
          "output_type": "stream",
          "name": "stdout",
          "text": [
            "\n",
            "\n"
          ]
        }
      ]
    },
    {
      "cell_type": "markdown",
      "source": [
        "#4. Построить график и выписать интерполяционный многочлен Лагранжа для функции, проходящей через четыре точки, координаты которых образуют столбцы матрицы\n"
      ],
      "metadata": {
        "id": "X-fuOHvD1HaV"
      }
    },
    {
      "cell_type": "markdown",
      "source": [
        "Для построения многочлена Лагранжа воспользуемся формулой:\n",
        "\n",
        "$P(x) = Σ_{i=0}^{n}y_il_i$ , где\n",
        "\n",
        "$l_i = \\dfrac{(x-x_0)(x-x_1)...(x-x_{n-1})(x-x_n)}{(x_i-x_0)(x_i-x_1)...(x_i-x_{n-1})(x_i-x_n)}$\n",
        "\n"
      ],
      "metadata": {
        "id": "WPUo1eH8eCGL"
      }
    },
    {
      "cell_type": "code",
      "source": [
        "import matplotlib.pyplot as plt\n",
        "\n",
        "def get_li(i, points, x):\n",
        "    xi, yi = points[i]\n",
        "    l_i = 1\n",
        "    for j, (xj, yj) in enumerate(points):\n",
        "        if i != j:\n",
        "            l_i *= (x - xj) / (xi - xj)\n",
        "    return l_i\n",
        "\n",
        "def lagrange(points, x):\n",
        "    P = 0\n",
        "    for i, (xi, yi) in enumerate(points):\n",
        "        l_i = get_li(i, points, x)\n",
        "        P += yi * l_i\n",
        "    return P\n",
        "\n",
        "\n",
        "points = [(-3, 8), (-1, 6), (1, -12), (3, -2)]\n",
        "\n",
        "x_tmp = sp.symbols('x')\n",
        "polynomial = lagrange(points, x_tmp).simplify()\n",
        "\n",
        "print(\"Интерполяционный многочлен Лагранжа:\")\n",
        "display(polynomial)\n",
        "print(\"Интерполяционный многочлен Лагранжа c десятичными коэффицентами:\")\n",
        "display(sp.N(polynomial))\n",
        "\n",
        "# Строим график\n",
        "lagrange_func = sp.lambdify(x_tmp, polynomial, 'numpy')\n",
        "x_vals = np.linspace(-4, 4, 400)\n",
        "y_vals = lagrange_func(x_vals)\n",
        "\n",
        "plt.plot(x_vals, y_vals, label='Интерполяционный многочлен Лагранжа')\n",
        "plt.scatter(*zip(*points), color='red', label='Точки данных')\n",
        "plt.title(\"График интерполяции Лагранжа\")\n",
        "plt.xlabel(\"x\")\n",
        "plt.ylabel(\"y\")\n",
        "plt.legend()\n",
        "plt.grid(True)\n",
        "plt.show()"
      ],
      "metadata": {
        "colab": {
          "base_uri": "https://localhost:8080/",
          "height": 565
        },
        "id": "-zVt0Z8D0CQp",
        "outputId": "bf74093b-df5b-482e-a3cb-6109808b3838"
      },
      "execution_count": null,
      "outputs": [
        {
          "output_type": "stream",
          "name": "stdout",
          "text": [
            "Интерполяционный многочлен Лагранжа:\n"
          ]
        },
        {
          "output_type": "display_data",
          "data": {
            "text/plain": [
              "11*x**3/12 + 3*x**2/4 - 119*x/12 - 15/4"
            ],
            "text/latex": "$\\displaystyle \\frac{11 x^{3}}{12} + \\frac{3 x^{2}}{4} - \\frac{119 x}{12} - \\frac{15}{4}$"
          },
          "metadata": {}
        },
        {
          "output_type": "stream",
          "name": "stdout",
          "text": [
            "Интерполяционный многочлен Лагранжа c десятичными коэффицентами:\n"
          ]
        },
        {
          "output_type": "display_data",
          "data": {
            "text/plain": [
              "0.916666666666667*x**3 + 0.75*x**2 - 9.91666666666667*x - 3.75"
            ],
            "text/latex": "$\\displaystyle 0.916666666666667 x^{3} + 0.75 x^{2} - 9.91666666666667 x - 3.75$"
          },
          "metadata": {}
        },
        {
          "output_type": "display_data",
          "data": {
            "text/plain": [
              "<Figure size 640x480 with 1 Axes>"
            ],
            "image/png": "[encoded data removed]"
          },
          "metadata": {}
        }
      ]
    },
    {
      "cell_type": "markdown",
      "source": [
        "# 5. Построить график и найти (параметрически) уравнение кривой Безье, заданной четырьмя точками, координаты которых образуют столбцы матрицы"
      ],
      "metadata": {
        "id": "p7kVIKojhP4W"
      }
    },
    {
      "cell_type": "markdown",
      "source": [
        "Для нахождения параметрического уравнения кривой Безье 4-го порядка, заданной четырьмя точками, нужно использовать известную формулу для кривой Безье, которая строится на основе базисных полиномов Безье. Для 4 точек $P_0, P_1, P_2$ и $P_3$ это:\n",
        "\n",
        "$$B(t) = (1 - t)^3P_0 + 3(1 - t)^2P_1 + 3(1 - t)^2P_2 + t^3P_3$$ , где $t$ принимает значения от 0 до 1."
      ],
      "metadata": {
        "id": "Z9ppHyLziP6M"
      }
    },
    {
      "cell_type": "code",
      "source": [
        "import numpy as np\n",
        "import matplotlib.pyplot as plt\n",
        "\n",
        "# Контрольные точки (P0, P1, P2, P3)\n",
        "P = np.array([[1, 3, 5, 7],  # X-координаты\n",
        "              [7, 8, 2, 3]]) # Y-координаты\n",
        "\n",
        "# Параметр t от 0 до 1\n",
        "t = np.linspace(0, 1, 100)\n",
        "\n",
        "def get_point(my_P):\n",
        "   B = (1 - t)**3 * my_P[0] + 3 * (1 - t)**2 * t * my_P[1] + 3 * (1 - t) * t**2 * my_P[2] + t**3 * my_P[3]\n",
        "   return B\n",
        "\n",
        "# Вычисление кривой Безье (B(t))\n",
        "B_x = get_point(P[0])\n",
        "B_y = get_point(P[1])\n",
        "\n",
        "# Строим график\n",
        "plt.plot(B_x, B_y, label=\"Кривая Безье\")\n",
        "plt.plot(P[0], P[1], 'ro', label=\"Контрольные точки\")\n",
        "plt.plot([P[0, 0], P[0, 1]], [P[1, 0], P[1, 1]], 'g--', label=\"Отрезки между точками\")\n",
        "plt.plot([P[0, 1], P[0, 2]], [P[1, 1], P[1, 2]], 'g--')\n",
        "plt.plot([P[0, 2], P[0, 3]], [P[1, 2], P[1, 3]], 'g--')\n",
        "plt.legend()\n",
        "plt.xlabel(\"X\")\n",
        "plt.ylabel(\"Y\")\n",
        "plt.title(\"Кривая Безье, заданная четырьмя точками\")\n",
        "plt.grid(True)\n",
        "plt.show()"
      ],
      "metadata": {
        "colab": {
          "base_uri": "https://localhost:8080/",
          "height": 472
        },
        "collapsed": true,
        "id": "WerufFEV0ftZ",
        "outputId": "8274fbb7-93b5-49c6-e8c0-1bf41e250c06"
      },
      "execution_count": null,
      "outputs": [
        {
          "output_type": "display_data",
          "data": {
            "text/plain": [
              "<Figure size 640x480 with 1 Axes>"
            ],
            "image/png": "[encoded data removed]"
          },
          "metadata": {}
        }
      ]
    },
    {
      "cell_type": "markdown",
      "source": [
        "#6. Для многочлена $-2x^3 + 3x^2 + 3x + 4$ найти наилучшее приближение по норме $\\int_{-1}^{3} |f(x)| \\, dx$ многочленом степени 2 на отрезке $[-1 ,3]$."
      ],
      "metadata": {
        "id": "t2JQS9z11VC0"
      }
    },
    {
      "cell_type": "markdown",
      "source": [
        "Найдем приближение через Чебышёвский альтернанс.\n",
        "\n",
        "Чтобы многочлен $Q_n(x)$ был многочленом наилучшего равномерного приближения непрерывной функции $f(x)$, необходимо и достаточно существования на $[a,b]$ по крайней мере $n+2$ точек $x_0 < ... < x_{n+1}$ таких, что:\n",
        "\n",
        "$$f(x_{i})-Q_{n}(x_{i})=\\alpha (-1)^{i}||f-Q_{n}||$$\n",
        "\n",
        "Для этого выберем $n + 2 = 4$ точек чебышёвского альтернанса. Чтобы условие выполнялось возьмем крайние точки, а также 2 экстремума функции (многочлен степени 3 может иметь не более 2 экстремумов).\n",
        "\n",
        "$$(-2x^3 + 3x^2 + 3x + 4)' = 0$$\n",
        "$$-6x^2 + 6x + 3 = 0$$\n",
        "$$-6x^2 + 6x + 3 = 0$$\n",
        "$$x = \\frac{1}{2} \\pm \\frac{\\sqrt{3}}{2}$$\n",
        "\n",
        "Тогда решим систему, чтобы получить параметры $Q_n(x)$.\n",
        "Пусть $Q_n(x) = at^2  + bt + c$. Тогда:\n",
        "\n",
        "$$\n",
        "\\begin{cases}\n",
        "f(-1) - c = \\alpha L \\\\\n",
        "f(3) - 9a - 3b - c = -\\alpha L \\\\\n",
        "f(\\frac{1}{2} + \\frac{\\sqrt{3}}{2}) - a(\\frac{1}{2} + \\frac{\\sqrt{3}}{2})^2 - b(\\frac{1}{2} + \\frac{\\sqrt{3}}{2}) - c = \\alpha L \\\\\n",
        "f(\\frac{1}{2} - \\frac{\\sqrt{3}}{2}) - a(\\frac{1}{2} - \\frac{\\sqrt{3}}{2})^2 - b(\\frac{1}{2} - \\frac{\\sqrt{3}}{2}) - c = -\\alpha L \\\\\n",
        "\\end{cases}\n",
        "$$"
      ],
      "metadata": {
        "id": "3-rMocYymDYS"
      }
    },
    {
      "cell_type": "code",
      "source": [
        "x, a, b, c, L, t = sp.symbols('x a b c L t')\n",
        "\n",
        "def f(x):\n",
        "  return -2*x**3 + 3*x**2 + 3*x + 4\n",
        "\n",
        "def Q(t):\n",
        "  return a*t**2 + b*t + c\n",
        "\n",
        "x1 = sp.Rational(1, 2) + sp.sqrt(3) / 2\n",
        "x2 = sp.Rational(1, 2) - sp.sqrt(3) / 2\n",
        "\n",
        "res = sp.solve([f(-1) - Q(-1) - L, f(3) - Q(3) + L, f(x1) - Q(x1) - L, f(x2) - Q(x2) + L], [a, b, c, L], dict=True)\n",
        "\n",
        "print(\"Результаты:\")\n",
        "for solution in res:\n",
        "    for var, value in solution.items():\n",
        "        display(sp.Eq(var, value))\n",
        "\n",
        "for solution in res:\n",
        "    Q_poly = Q(x).subs(solution)\n",
        "    Q_poly_simplified = sp.simplify(Q_poly)\n",
        "\n",
        "print(\"Многочлен:\")\n",
        "display(sp.Eq(sp.Symbol(\"Q_n(x)\"), Q_poly_simplified))\n",
        "print(\"Многочлен с десятичными дробями:\")\n",
        "display(sp.Eq(sp.Symbol(\"Q_n(x)\"),Q_poly_simplified.evalf()))\n",
        "print(\"\\n\")"
      ],
      "metadata": {
        "colab": {
          "base_uri": "https://localhost:8080/",
          "height": 319
        },
        "id": "SeiQASVV1LxN",
        "outputId": "edf06c32-d001-4de2-816f-a82d7a633e38"
      },
      "execution_count": null,
      "outputs": [
        {
          "output_type": "stream",
          "name": "stdout",
          "text": [
            "Результаты:\n"
          ]
        },
        {
          "output_type": "display_data",
          "data": {
            "text/plain": [
              "Eq(L, -42/13 + 48*sqrt(3)/13)"
            ],
            "text/latex": "$\\displaystyle L = - \\frac{42}{13} + \\frac{48 \\sqrt{3}}{13}$"
          },
          "metadata": {}
        },
        {
          "output_type": "display_data",
          "data": {
            "text/plain": [
              "Eq(a, -29/13 - 4*sqrt(3)/13)"
            ],
            "text/latex": "$\\displaystyle a = - \\frac{29}{13} - \\frac{4 \\sqrt{3}}{13}$"
          },
          "metadata": {}
        },
        {
          "output_type": "display_data",
          "data": {
            "text/plain": [
              "Eq(b, -28/13 + 32*sqrt(3)/13)"
            ],
            "text/latex": "$\\displaystyle b = - \\frac{28}{13} + \\frac{32 \\sqrt{3}}{13}$"
          },
          "metadata": {}
        },
        {
          "output_type": "display_data",
          "data": {
            "text/plain": [
              "Eq(c, 121/13 - 12*sqrt(3)/13)"
            ],
            "text/latex": "$\\displaystyle c = \\frac{121}{13} - \\frac{12 \\sqrt{3}}{13}$"
          },
          "metadata": {}
        },
        {
          "output_type": "stream",
          "name": "stdout",
          "text": [
            "Многочлен:\n"
          ]
        },
        {
          "output_type": "display_data",
          "data": {
            "text/plain": [
              "Eq(Q_n(x), -x**2*(4*sqrt(3) + 29)/13 - 4*x*(7 - 8*sqrt(3))/13 - 12*sqrt(3)/13 + 121/13)"
            ],
            "text/latex": "$\\displaystyle Q_{n(x)} = - \\frac{x^{2} \\left(4 \\sqrt{3} + 29\\right)}{13} - \\frac{4 x \\left(7 - 8 \\sqrt{3}\\right)}{13} - \\frac{12 \\sqrt{3}}{13} + \\frac{121}{13}$"
          },
          "metadata": {}
        },
        {
          "output_type": "stream",
          "name": "stdout",
          "text": [
            "Многочлен с десятичными дробями:\n"
          ]
        },
        {
          "output_type": "display_data",
          "data": {
            "text/plain": [
              "Eq(Q_n(x), -2.76370794079042*x**2 + 2.10966352632339*x + 7.70887617762873)"
            ],
            "text/latex": "$\\displaystyle Q_{n(x)} = - 2.76370794079042 x^{2} + 2.10966352632339 x + 7.70887617762873$"
          },
          "metadata": {}
        },
        {
          "output_type": "stream",
          "name": "stdout",
          "text": [
            "\n",
            "\n"
          ]
        }
      ]
    },
    {
      "cell_type": "markdown",
      "source": [
        "Построим графики для сравнения"
      ],
      "metadata": {
        "id": "Uc3hTyxQsyPL"
      }
    },
    {
      "cell_type": "code",
      "source": [
        "solution = res[0]\n",
        "Q_poly = Q(x).subs(solution)\n",
        "Q_poly_simplified = sp.simplify(Q_poly)\n",
        "\n",
        "f_np = sp.lambdify(x, f(x), 'numpy')\n",
        "Q_np = sp.lambdify(x, Q_poly_simplified, 'numpy')\n",
        "\n",
        "x_vals = np.linspace(-1, 3, 400)\n",
        "\n",
        "f_vals = f_np(x_vals)\n",
        "Q_vals = Q_np(x_vals)\n",
        "\n",
        "plt.figure(figsize=(10, 6))\n",
        "plt.plot(x_vals, f_vals, label='Исходная функция $f(x)$', color='blue')\n",
        "plt.plot(x_vals, Q_vals, label='Приближающий многочлен $Q(x)$', color='red', linestyle='--')\n",
        "plt.scatter([-1, 3, float(x1), float(x2)], [f(-1), f(3), f(x1), f(x2)], color='black', zorder=5, label=\"Контрольные точки\")\n",
        "plt.xlabel(\"x\")\n",
        "plt.ylabel(\"y\")\n",
        "plt.title(\"Приближение исходной функции многочленом 2 степени\")\n",
        "plt.legend()\n",
        "plt.grid(True)\n",
        "plt.show()"
      ],
      "metadata": {
        "colab": {
          "base_uri": "https://localhost:8080/",
          "height": 564
        },
        "id": "1UP0xJiksxpO",
        "outputId": "45e4a12f-dcc3-400d-9145-374a8a3aa89c"
      },
      "execution_count": null,
      "outputs": [
        {
          "output_type": "display_data",
          "data": {
            "text/plain": [
              "<Figure size 1000x600 with 1 Axes>"
            ],
            "image/png": "[encoded data removed]"
          },
          "metadata": {}
        }
      ]
    },
    {
      "cell_type": "markdown",
      "source": [
        "#7. Построить многочлен степени ≤ 3, аппроксимирующий функцию $f(x) = \\sqrt{3x + 8}$ на отрезке $[2, 6]$ по норме $|h|_Τ$.\n",
        "$$|h|_Τ = \\sqrt{\\int_2^6\\dfrac{h(x)^2}{\\sqrt{1 - (2x-8)^2/16}}dx}$$"
      ],
      "metadata": {
        "id": "xMW-SMkh2bsu"
      }
    },
    {
      "cell_type": "markdown",
      "source": [
        "Рассмотрим пространство $H = C[2,6], f(x) \\in H$\n",
        "\n",
        "Тогда скалярное произведение будет задаваться как:\n",
        "$(f(x), g(x))$ = $\\int_2^6f(x)g(x)p(x)dx$\n",
        "\n",
        "Где $p(x) = \\dfrac{1}{\\sqrt{1 - (2x-8)^2/16}}$\n",
        "\n",
        "Из-за свойств комутативности скалярного произведения линейности интеграла и того, что скалярное произведение больше нуля получается что,\n",
        "норма $f(x) = \\sqrt{(f(x), f(x))}$\n",
        "\n",
        "\n",
        "Для решения воспользуемся методом моментов $μ_n = \\int_2^6x^np(x)dx$."
      ],
      "metadata": {
        "id": "07BZtkZFvW7F"
      }
    },
    {
      "cell_type": "code",
      "source": [
        "from scipy.integrate import quad\n",
        "x = sp.symbols('x')\n",
        "\n",
        "def f(x):\n",
        "    return (3 * x + 8)**(0.5)\n",
        "\n",
        "def p(x):\n",
        "    return 1 / (1 - (2 * x - 8)**2 / 16)**(0.5)\n",
        "\n",
        "\n",
        "a, b = 2, 6\n",
        "\n",
        "def compute_moment(i):\n",
        "    return quad(lambda x: x**i * p(x), a, b)[0]\n",
        "\n",
        "moments = np.array([compute_moment(i) for i in range(6)])\n",
        "\n",
        "print(*moments)\n",
        "print(\"\\n\")"
      ],
      "metadata": {
        "colab": {
          "base_uri": "https://localhost:8080/"
        },
        "id": "EIoRZ-6Cvmdw",
        "outputId": "318a23c6-2c34-4216-8d3b-cd3d5588fc1b"
      },
      "execution_count": null,
      "outputs": [
        {
          "output_type": "stream",
          "name": "stdout",
          "text": [
            "6.283185307176895 25.132741228700567 113.09733552912046 552.9203070311361 2852.5661294554316 15230.441184578702\n",
            "\n",
            "\n"
          ]
        }
      ]
    },
    {
      "cell_type": "markdown",
      "source": [
        "Найдем определители D1, D2, D3 и D4, чтобы найти систему ортогональных многочленов."
      ],
      "metadata": {
        "id": "tyKS5IAC05k6"
      }
    },
    {
      "cell_type": "code",
      "source": [
        "D1 = sp.Matrix([1])\n",
        "\n",
        "D2 = sp.Matrix([\n",
        "    [moments[0], moments[1]],\n",
        "    [1, x]\n",
        "])\n",
        "\n",
        "D3 = sp.Matrix([\n",
        "    [moments[0], moments[1], moments[2]],\n",
        "    [moments[1], moments[2], moments[3]],\n",
        "    [1, x, x**2]\n",
        "])\n",
        "\n",
        "D4 = sp.Matrix([\n",
        "    [moments[0], moments[1], moments[2], moments[3]],\n",
        "    [moments[1], moments[2], moments[3], moments[4]],\n",
        "    [moments[2], moments[3], moments[4], moments[5]],\n",
        "    [1, x, x**2, x**3]\n",
        "])\n",
        "\n",
        "determinants = [\n",
        "    D1.det().simplify().evalf(),\n",
        "    D2.det().simplify().evalf(),\n",
        "    D3.det().simplify().evalf(),\n",
        "    D4.det().simplify().evalf()\n",
        "]\n",
        "\n",
        "for det in determinants:\n",
        "  print(\"Многочлен с десятичными дробями:\")\n",
        "  display(det)\n",
        "  print(\"----------------------------------------------------------------------------\")"
      ],
      "metadata": {
        "colab": {
          "base_uri": "https://localhost:8080/",
          "height": 241
        },
        "id": "3BLn08xa17Me",
        "outputId": "8690ad77-8a59-4f5e-c067-410334bb4ff0"
      },
      "execution_count": null,
      "outputs": [
        {
          "output_type": "stream",
          "name": "stdout",
          "text": [
            "Многочлен с десятичными дробями:\n"
          ]
        },
        {
          "output_type": "display_data",
          "data": {
            "text/plain": [
              "1.00000000000000"
            ],
            "text/latex": "$\\displaystyle 1.0$"
          },
          "metadata": {}
        },
        {
          "output_type": "stream",
          "name": "stdout",
          "text": [
            "----------------------------------------------------------------------------\n",
            "Многочлен с десятичными дробями:\n"
          ]
        },
        {
          "output_type": "display_data",
          "data": {
            "text/plain": [
              "6.2831853071769*x - 25.1327412287006"
            ],
            "text/latex": "$\\displaystyle 6.2831853071769 x - 25.1327412287006$"
          },
          "metadata": {}
        },
        {
          "output_type": "stream",
          "name": "stdout",
          "text": [
            "----------------------------------------------------------------------------\n",
            "Многочлен с десятичными дробями:\n"
          ]
        },
        {
          "output_type": "display_data",
          "data": {
            "text/plain": [
              "78.9568352085997*x**2 - 631.654681668865*x + 1105.39569292076"
            ],
            "text/latex": "$\\displaystyle 78.9568352085997 x^{2} - 631.654681668865 x + 1105.39569292076$"
          },
          "metadata": {}
        },
        {
          "output_type": "stream",
          "name": "stdout",
          "text": [
            "----------------------------------------------------------------------------\n",
            "Многочлен с десятичными дробями:\n"
          ]
        },
        {
          "output_type": "display_data",
          "data": {
            "text/plain": [
              "992.200853746271*x**3 - 11906.410245137*x**2 + 44649.0384200586*x - 51594.444397442"
            ],
            "text/latex": "$\\displaystyle 992.200853746271 x^{3} - 11906.410245137 x^{2} + 44649.0384200586 x - 51594.444397442$"
          },
          "metadata": {}
        },
        {
          "output_type": "stream",
          "name": "stdout",
          "text": [
            "----------------------------------------------------------------------------\n"
          ]
        }
      ]
    },
    {
      "cell_type": "markdown",
      "source": [
        "Наилучшим приближением $f \\in H$ относительно ортогональной системы многочленов является элемент $g$, такой что:\n",
        "\n",
        "$$g = \\sum_{i=0}^n \\alpha_i D_i(x)$$\n",
        "$$ ||f-g||^2 = \\int_2^6 \\rho (x)(f-g)^2 dx = min$$\n",
        "\n",
        "Тогда было доказано, что:\n",
        "$$\\alpha_i = \\frac{(f, D_i(x))}{(D_i(x), D_i(x))}$$\n"
      ],
      "metadata": {
        "id": "i8DOWfSd5yfk"
      }
    },
    {
      "cell_type": "markdown",
      "source": [
        "Построим графики для сравнения"
      ],
      "metadata": {
        "id": "7u0H8It_vfsi"
      }
    },
    {
      "cell_type": "code",
      "source": [
        "def integrand(expr):\n",
        "    y = lambda x: eval(expr)\n",
        "    return y"
      ],
      "metadata": {
        "id": "aRxor6MUH-t1"
      },
      "execution_count": null,
      "outputs": []
    },
    {
      "cell_type": "code",
      "source": [
        "p_fun = 1 / ((1 - (2 * x - 8) ** 2 / 16) ** 0.5)\n",
        "f = (3 * x + 8) ** (0.5)\n",
        "res = 0\n",
        "\n",
        "for det in determinants:\n",
        "    alpha = quad(integrand(repr(sp.simplify(p_fun * f * det))), 2, 6)[0] / quad(integrand(repr(sp.simplify(p_fun * det * det))), 2, 6)[0]\n",
        "    res += alpha * det\n",
        "\n",
        "display(sp.simplify(res).evalf(6))\n",
        "print(\"\\n\")"
      ],
      "metadata": {
        "colab": {
          "base_uri": "https://localhost:8080/",
          "height": 73
        },
        "id": "Cw8lWIHEERdw",
        "outputId": "5b6c8ceb-9a94-40b7-866d-74447aca0afe"
      },
      "execution_count": null,
      "outputs": [
        {
          "output_type": "display_data",
          "data": {
            "text/plain": [
              "0.000992525*x**3 - 0.0248585*x**2 + 0.486587*x + 2.86019"
            ],
            "text/latex": "$\\displaystyle 0.000992525 x^{3} - 0.0248585 x^{2} + 0.486587 x + 2.86019$"
          },
          "metadata": {}
        },
        {
          "output_type": "stream",
          "name": "stdout",
          "text": [
            "\n",
            "\n"
          ]
        }
      ]
    },
    {
      "cell_type": "markdown",
      "source": [
        "Построим графики"
      ],
      "metadata": {
        "id": "G9XyNmZ_Y58V"
      }
    },
    {
      "cell_type": "code",
      "source": [
        "def f(x):\n",
        "    return np.sqrt(3 * x + 8)\n",
        "\n",
        "def P(x, coeffs):\n",
        "    return np.polyval(coeffs, x)\n",
        "\n",
        "best_coeffs = [0.000992525, -0.0248585, 0.486587, 2.86019]\n",
        "\n",
        "x_vals = np.linspace(2, 6, 100)\n",
        "\n",
        "f_vals = f(x_vals)\n",
        "P_vals = P(x_vals, best_coeffs)\n",
        "\n",
        "plt.plot(x_vals, f_vals, label=\"f(x) = sqrt(3x + 8)\", color=\"blue\")\n",
        "plt.plot(x_vals, P_vals, label=\"Polynomial Approximation\", color=\"red\", linestyle=\"--\")\n",
        "\n",
        "plt.xlabel(\"x\")\n",
        "plt.ylabel(\"y\")\n",
        "plt.legend()\n",
        "plt.title(\"Polynomial Approximation of f(x) = sqrt(3x + 8)\")\n",
        "\n",
        "plt.show()"
      ],
      "metadata": {
        "colab": {
          "base_uri": "https://localhost:8080/",
          "height": 472
        },
        "id": "3RFClGDClRCV",
        "outputId": "c76b7fc9-4f3f-472d-da13-85be39a19047"
      },
      "execution_count": null,
      "outputs": [
        {
          "output_type": "display_data",
          "data": {
            "text/plain": [
              "<Figure size 640x480 with 1 Axes>"
            ],
            "image/png": "[encoded data removed]"
          },
          "metadata": {}
        }
      ]
    },
    {
      "cell_type": "markdown",
      "source": [
        "#8. При каком q уравнение $x^2(2q-4)+xy(4-4q)+y^2(8q+1)=1$ задает единичную окружность относительно какой-то нормы в двумерном пространстве? Найти норму вектора $(1, 1)$ в зависимости от $q$."
      ],
      "metadata": {
        "id": "V3NvzCPo4wer"
      }
    },
    {
      "cell_type": "markdown",
      "source": [
        "Чтобы найти параметр q и уравнение окружности, нужно взять матрицу\n",
        "$M = \\begin{pmatrix}\n",
        "A & B\\\\\n",
        "B & C\\\\\n",
        "\\end{pmatrix}$, где $A$, $B$ и $C$ это параметры уравнения окружности $Ax^2 + 2Bxy + Cy^2 = 1$"
      ],
      "metadata": {
        "id": "YzXVvUqDL5gp"
      }
    },
    {
      "cell_type": "code",
      "source": [
        "x, y, q = sp.symbols('x y q')\n",
        "\n",
        "M = sp.Matrix([\n",
        "    [3*q - 4, 6 - 4*q],\n",
        "    [6 - 4*q, 8*q + 1]\n",
        "])\n",
        "\n",
        "def compute_eigenvalues_and_eigenvectors(matrix):\n",
        "    eigenvalues = matrix.eigenvals()\n",
        "    eigenvectors = matrix.eigenvects()\n",
        "    return eigenvalues, eigenvectors\n",
        "\n",
        "\n",
        "eigenvalues_A, eigenvectors_A = compute_eigenvalues_and_eigenvectors(M)\n",
        "\n",
        "eigenvalues_list = list(eigenvalues_A.keys())\n",
        "\n",
        "\n",
        "print(\"Собственные числа:\")\n",
        "for val in eigenvalues_list:\n",
        "    print(val)\n",
        "\n",
        "q_solutions = sp.solve(sp.Eq(eigenvalues_list[0], eigenvalues_list[1]), q)\n",
        "\n",
        "print(\"Решения для q\")\n",
        "print(q_solutions)\n",
        "print(\"\\n\")"
      ],
      "metadata": {
        "colab": {
          "base_uri": "https://localhost:8080/"
        },
        "id": "0Rap_U8CPCHO",
        "outputId": "4c60e04d-f50d-4280-baaf-95d553695aa0"
      },
      "execution_count": null,
      "outputs": [
        {
          "output_type": "stream",
          "name": "stdout",
          "text": [
            "Собственные числа:\n",
            "11*q/2 - sqrt(89*q**2 - 142*q + 169)/2 - 3/2\n",
            "11*q/2 + sqrt(89*q**2 - 142*q + 169)/2 - 3/2\n",
            "Решения для q\n",
            "[71/89 - 100*I/89, 71/89 + 100*I/89]\n",
            "\n",
            "\n"
          ]
        }
      ]
    },
    {
      "cell_type": "markdown",
      "source": [
        "$q = \\frac{-7}{26} \\pm \\frac{11I}{13}$"
      ],
      "metadata": {
        "id": "tsJHlZhoST6v"
      }
    },
    {
      "cell_type": "markdown",
      "source": [
        "Для вычисления нормы вектора $(1,1)$ относительно квадратичной формы, заданной матрицей M, нам нужно найти значение $||(1,1)|| = \\sqrt{(x, y)M(x, y)^T} = \\sqrt{Ax^2 + Bxy + C^2y^2}$, где $x = 1$ и $y = 1$."
      ],
      "metadata": {
        "id": "5FG0H1yKTLv6"
      }
    },
    {
      "cell_type": "code",
      "source": [
        "\n",
        "vector = sp.Matrix([1, 1])\n",
        "norm_squared = (vector.T * M * vector)[0]\n",
        "norm = sp.sqrt(norm_squared)\n",
        "\n",
        "print(\"Норма вектора (1,1) относительно квадратичной формы:\")\n",
        "display(norm)\n",
        "\n",
        "print(\"\\nЗначение\")\n",
        "display(sp.Eq(sp.Symbol(\"q\"), q_solutions[0]))\n",
        "display(q_solutions[0])\n",
        "print(\"\\nНорма\")\n",
        "display(norm.subs(q, q_solutions[0]))\n",
        "\n",
        "print(\"\\nЗначение\")\n",
        "display(sp.Eq(sp.Symbol(\"q\"), q_solutions[1]))\n",
        "display(q_solutions[1])\n",
        "print(\"\\nНорма\")\n",
        "display(norm.subs(q, q_solutions[1]))\n",
        "print(\"\\n\")"
      ],
      "metadata": {
        "colab": {
          "base_uri": "https://localhost:8080/",
          "height": 449
        },
        "id": "RJpYrjsSVxZ0",
        "outputId": "be68c225-12fa-45a4-8ff1-dfbfc86dc43b"
      },
      "execution_count": null,
      "outputs": [
        {
          "output_type": "stream",
          "name": "stdout",
          "text": [
            "Норма вектора (1,1) относительно квадратичной формы:\n"
          ]
        },
        {
          "output_type": "display_data",
          "data": {
            "text/plain": [
              "sqrt(3*q + 9)"
            ],
            "text/latex": "$\\displaystyle \\sqrt{3 q + 9}$"
          },
          "metadata": {}
        },
        {
          "output_type": "stream",
          "name": "stdout",
          "text": [
            "\n",
            "Значение\n"
          ]
        },
        {
          "output_type": "display_data",
          "data": {
            "text/plain": [
              "Eq(q, 71/89 - 100*I/89)"
            ],
            "text/latex": "$\\displaystyle q = \\frac{71}{89} - \\frac{100 i}{89}$"
          },
          "metadata": {}
        },
        {
          "output_type": "display_data",
          "data": {
            "text/plain": [
              "71/89 - 100*I/89"
            ],
            "text/latex": "$\\displaystyle \\frac{71}{89} - \\frac{100 i}{89}$"
          },
          "metadata": {}
        },
        {
          "output_type": "stream",
          "name": "stdout",
          "text": [
            "\n",
            "Норма\n"
          ]
        },
        {
          "output_type": "display_data",
          "data": {
            "text/plain": [
              "sqrt(1014/89 - 300*I/89)"
            ],
            "text/latex": "$\\displaystyle \\sqrt{\\frac{1014}{89} - \\frac{300 i}{89}}$"
          },
          "metadata": {}
        },
        {
          "output_type": "stream",
          "name": "stdout",
          "text": [
            "\n",
            "Значение\n"
          ]
        },
        {
          "output_type": "display_data",
          "data": {
            "text/plain": [
              "Eq(q, 71/89 + 100*I/89)"
            ],
            "text/latex": "$\\displaystyle q = \\frac{71}{89} + \\frac{100 i}{89}$"
          },
          "metadata": {}
        },
        {
          "output_type": "display_data",
          "data": {
            "text/plain": [
              "71/89 + 100*I/89"
            ],
            "text/latex": "$\\displaystyle \\frac{71}{89} + \\frac{100 i}{89}$"
          },
          "metadata": {}
        },
        {
          "output_type": "stream",
          "name": "stdout",
          "text": [
            "\n",
            "Норма\n"
          ]
        },
        {
          "output_type": "display_data",
          "data": {
            "text/plain": [
              "sqrt(1014/89 + 300*I/89)"
            ],
            "text/latex": "$\\displaystyle \\sqrt{\\frac{1014}{89} + \\frac{300 i}{89}}$"
          },
          "metadata": {}
        },
        {
          "output_type": "stream",
          "name": "stdout",
          "text": [
            "\n",
            "\n"
          ]
        }
      ]
    },
    {
      "cell_type": "markdown",
      "source": [
        "Норма: $\\sqrt{-\\frac{8}{13} \\pm \\frac{66i}{13}}$"
      ],
      "metadata": {
        "id": "LflepmT_a1Hy"
      }
    }
  ]
}