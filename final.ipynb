{
  "nbformat": 4,
  "nbformat_minor": 0,
  "metadata": {
    "colab": {
      "provenance": []
    },
    "kernelspec": {
      "name": "python3",
      "display_name": "Python 3"
    },
    "language_info": {
      "name": "python"
    }
  },
  "cells": [
    {
      "cell_type": "markdown",
      "source": [
        " # Задание 1"
      ],
      "metadata": {
        "id": "9qoEdA5uu_i4"
      }
    },
    {
      "cell_type": "markdown",
      "source": [
        "Найдите наилучшее приближение $A_1$ ранга 2 для матрицы $A$ в норме\n",
        "$|| · ||_2$ и найдите $||A - A_1||_2$, где\n",
        "\n",
        "$A = \\begin{pmatrix}\n",
        "92 & -57 & 46 & 36 \\\\\n",
        "50 & 78 & -68 & -72 \\\\\n",
        "-41 & -96 & 44 & -90\n",
        "\\end{pmatrix}$\n",
        "\n",
        "Возьмем матрицу размера $A$ с первыми $r$ сингулярными числами на главной диагонали (где $r = rank(A)$). Это матрица имеет вид:\n",
        "\n",
        "$diag = \\begin{pmatrix}\n",
        "\\sigma_1 & 0 & 0 & 0 \\\\\n",
        "0 & \\sigma_2 & 0 & 0 \\\\\n",
        "0 & 0 & \\sigma_3 & 0 \\\\\n",
        "\\end{pmatrix}$\n",
        "\n",
        "Эта матрица будует наилучшим приближением по евклидовой норме.\n",
        "Тогда $A_1 = diag - A$"
      ],
      "metadata": {
        "id": "sBmicoZsvKU7"
      }
    },
    {
      "cell_type": "code",
      "execution_count": null,
      "metadata": {
        "id": "kfvKqVCtu-wO",
        "colab": {
          "base_uri": "https://localhost:8080/"
        },
        "outputId": "7061aae3-1b93-4538-d25b-fabb9335d11d"
      },
      "outputs": [
        {
          "output_type": "stream",
          "name": "stdout",
          "text": [
            "Ранг A =  3\n",
            "Сингулярные числа:  [99, 132, 165]\n",
            "Матрица с сингулярными числами: \n",
            " [[ 99   0   0]\n",
            " [  0 132   0]\n",
            " [  0   0 165]]\n",
            "Наилучшее приближение A1\n",
            " [[  7  57 -46 -36]\n",
            " [-50  54  68  72]\n",
            " [ 41  96 121  90]]\n",
            "\n",
            "\n"
          ]
        }
      ],
      "source": [
        "import sympy as sp\n",
        "import numpy as np\n",
        "\n",
        "A = np.matrix(\n",
        "    [[92, -57, 46, 36],\n",
        "    [50, 78, -68, -72],\n",
        "    [-41, -96, 44, -90]]\n",
        ")\n",
        "\n",
        "print(\"Ранг A = \", np.linalg.matrix_rank(A))\n",
        "\n",
        "U, Σ, Vt = np.linalg.svd(A)\n",
        "Σ = Σ.astype(int)\n",
        "Σ = sorted(Σ)\n",
        "print(\"Сингулярные числа: \", Σ)\n",
        "\n",
        "diagonal_matrix = np.diag(Σ)\n",
        "\n",
        "print(\"Матрица с сингулярными числами: \\n\", diagonal_matrix)\n",
        "\n",
        "A1 = (np.column_stack((diagonal_matrix, np.zeros(3))) - A).astype(int)\n",
        "\n",
        "print(\"Наилучшее приближение A1\\n\", A1)\n",
        "print(\"\\n\")"
      ]
    },
    {
      "cell_type": "markdown",
      "source": [
        "Ответ:\n",
        "\n",
        "$A_1 = \\begin{pmatrix}\n",
        "7 & 57 & -46 & -36 \\\\\n",
        "-50 & 54 & 68 & 72 \\\\\n",
        "41 & 96 & 121 & 90\n",
        "\\end{pmatrix}$"
      ],
      "metadata": {
        "id": "waJNFxSXeCCg"
      }
    },
    {
      "cell_type": "markdown",
      "source": [
        "# Задание 2"
      ],
      "metadata": {
        "id": "DSPRb2CUesAU"
      }
    },
    {
      "cell_type": "markdown",
      "source": [
        "Найдите приближенное решение системы $AX=b$, округлив значения до ближайших целых, и оцените его относительную погрешность по нормам $|·|_1$ и $|·|_2$, используя число обусловленности матрицы $A$, где\n",
        "$$\n",
        "A =\n",
        "\\begin{pmatrix}\n",
        "-5.1 & 0.04 \\\\\n",
        "-4.86 & -8.08\n",
        "\\end{pmatrix},\n",
        "\\ b =\n",
        "\\begin{pmatrix}\n",
        "-4.82 \\\\\n",
        "-13.06\n",
        "\\end{pmatrix}\n",
        "$$\n",
        "\n",
        "Округлим матрицы:\n",
        "$$\n",
        "A' =\n",
        "\\begin{pmatrix}\n",
        "-5 & 0 \\\\\n",
        "-5 & -8\n",
        "\\end{pmatrix},\n",
        "\\ b' =\n",
        "\\begin{pmatrix}\n",
        "-5 \\\\\n",
        "-13\n",
        "\\end{pmatrix}\n",
        "$$\n",
        "\n",
        "Найдем решение $A'x = b'$\n",
        "\n",
        "$$\n",
        "\\begin{pmatrix}\n",
        "-5 & 0 \\\\\n",
        "-5 & -8\n",
        "\\end{pmatrix}\n",
        "\\cdot\n",
        "X\n",
        "=\n",
        "\\begin{pmatrix}\n",
        "-5 \\\\\n",
        "-13\n",
        "\\end{pmatrix}\n",
        "$$\n",
        "\n",
        "$$\n",
        "X\n",
        "=\n",
        "\\begin{pmatrix}\n",
        "1 \\\\\n",
        "1\n",
        "\\end{pmatrix}\n",
        "$$\n",
        "\n",
        "Причем\n",
        "\n",
        "$\\tilde{A} = A + \\Delta A;\\  \\delta A = \\frac{||\\Delta A||}{||A||}$\n",
        "\n",
        "$\\tilde{b} = b + \\Delta A;\\  \\delta b = \\frac{|\\Delta b|}{|b|}$\n",
        "\n",
        "$\\tilde{x} = x + \\Delta x;\\ \\delta x = \\frac{|\\Delta x|}{|x|}$\n",
        "\n",
        "Тогда верхняя оценка относительной погрешности приближённого решения имеет вид:\n",
        "$\n",
        "\\delta X \\le K(A) (\\delta A + \\delta b)\n",
        "$, где $K_*(A) = ||A^{-1}||_* \\cdot ||A||_*$\n"
      ],
      "metadata": {
        "id": "2-ntZqXPe7VL"
      }
    },
    {
      "cell_type": "code",
      "source": [
        "A_app = sp.Matrix([[-5, 0], [-5, -8]])\n",
        "A = sp.Matrix([[-5.1, 0.04], [-4.86, -8.08]])\n",
        "b_app = sp.Matrix([[-5], [-13]])\n",
        "b = sp.Matrix([[-4.82], [-13.06]])"
      ],
      "metadata": {
        "id": "8aCiGBvGljj2"
      },
      "execution_count": null,
      "outputs": []
    },
    {
      "cell_type": "code",
      "source": [
        "A_app_norm1 = A_app.norm(1)\n",
        "b_app_norm1 = b_app.norm(1)\n",
        "\n",
        "dA = A_app - A\n",
        "db = b_app - b\n",
        "\n",
        "dA_norm1 = (dA).norm(1)\n",
        "db_norm1 = (db).norm(1)\n",
        "\n",
        "A_inv_1 = (A_app ** (-1)).norm(1)\n",
        "\n",
        "K_norm1 = A_app_norm1 * A_inv_1\n",
        "\n",
        "deltaA_norm1 = dA_norm1 / A_app_norm1\n",
        "deltab_norm1 = db_norm1 / b_app_norm1\n",
        "\n",
        "deltax_norm = K_norm1 * (deltaA_norm1 + deltab_norm1)\n",
        "\n",
        "display(sp.simplify(deltax_norm).evalf(5))\n",
        "print(\"\\n\")"
      ],
      "metadata": {
        "colab": {
          "base_uri": "https://localhost:8080/",
          "height": 72
        },
        "id": "OroubFr1j8QJ",
        "outputId": "10cd0b0e-02c4-4e70-80ca-bf19c5b862da"
      },
      "execution_count": null,
      "outputs": [
        {
          "output_type": "display_data",
          "data": {
            "text/plain": [
              "0.12133"
            ],
            "text/latex": "$\\displaystyle 0.12133$"
          },
          "metadata": {}
        },
        {
          "output_type": "stream",
          "name": "stdout",
          "text": [
            "\n",
            "\n"
          ]
        }
      ]
    },
    {
      "cell_type": "code",
      "source": [
        "A_app_norm2 = A_app.norm(2)\n",
        "b_app_norm2 = b_app.norm(2)\n",
        "\n",
        "dA = A_app - A\n",
        "db = b_app - b\n",
        "\n",
        "dA_norm2 = (dA).norm(2)\n",
        "db_norm2 = (db).norm(2)\n",
        "\n",
        "A_inv_2 = (A_app ** (-1)).norm(2)\n",
        "\n",
        "K_norm2 = A_app_norm2 * A_inv_2\n",
        "\n",
        "deltaA_norm2 = dA_norm2 / A_app_norm2\n",
        "deltab_norm2 = db_norm2 / b_app_norm2\n",
        "\n",
        "deltax_norm = K_norm2 * (deltaA_norm2 + deltab_norm2)\n",
        "\n",
        "display(sp.simplify(deltax_norm).evalf(4))\n",
        "print(\"\\n\")"
      ],
      "metadata": {
        "colab": {
          "base_uri": "https://localhost:8080/",
          "height": 72
        },
        "id": "4lrxXM_slMb8",
        "outputId": "1c82d588-918e-43eb-e6d5-eab83713a8d5"
      },
      "execution_count": null,
      "outputs": [
        {
          "output_type": "display_data",
          "data": {
            "text/plain": [
              "0.08104"
            ],
            "text/latex": "$\\displaystyle 0.08104$"
          },
          "metadata": {}
        },
        {
          "output_type": "stream",
          "name": "stdout",
          "text": [
            "\n",
            "\n"
          ]
        }
      ]
    },
    {
      "cell_type": "markdown",
      "source": [
        "Погрешность по $|·|_1$ составляет $12.1\\%$, по $|·|_2$ - $8.1\\%$"
      ],
      "metadata": {
        "id": "0drf9zl7mvNE"
      }
    },
    {
      "cell_type": "markdown",
      "source": [
        "Проверим решение"
      ],
      "metadata": {
        "id": "7cmMy72umoVI"
      }
    },
    {
      "cell_type": "code",
      "source": [
        "res = sp.Matrix([[1], [1]])\n",
        "X = A.solve(b)\n",
        "display(X - res)\n",
        "print(\"\\n\")"
      ],
      "metadata": {
        "colab": {
          "base_uri": "https://localhost:8080/",
          "height": 92
        },
        "id": "PHyZSngPnMuP",
        "outputId": "ed5da666-0f27-434d-b88a-73d20d42b7f3"
      },
      "execution_count": null,
      "outputs": [
        {
          "output_type": "display_data",
          "data": {
            "text/plain": [
              "Matrix([\n",
              "[-0.0467219291635267],\n",
              "[  0.042954031650339]])"
            ],
            "text/latex": "$\\displaystyle \\left[\\begin{matrix}-0.0467219291635267\\\\0.042954031650339\\end{matrix}\\right]$"
          },
          "metadata": {}
        },
        {
          "output_type": "stream",
          "name": "stdout",
          "text": [
            "\n",
            "\n"
          ]
        }
      ]
    },
    {
      "cell_type": "markdown",
      "source": [
        "# Задание 3"
      ],
      "metadata": {
        "id": "s8mek2eLn_0j"
      }
    },
    {
      "cell_type": "markdown",
      "source": [
        "Найдите приближенное решение системы и оцените его относительную погрешность по нормам $|·|_2$ и $|·|_{\\infty}$:\n",
        "$$\n",
        "\\begin{cases}\n",
        "-3(8 + \\varepsilon_1)x + 2(-3 + \\varepsilon_2) y = 3 + \\varepsilon_3 \\\\\n",
        "-2x + (-4 + \\varepsilon_1) y = -3 + \\varepsilon_4\n",
        "\\end{cases}\n",
        "$$\n",
        "где неизвестные $\\varepsilon_j$ удовлетворяют условию $|\\varepsilon_j| < 0.05$ для всех $j = 1, ..., 4$\n",
        "\n",
        "Перейдем к матрицам:\n",
        "\n",
        "$$\n",
        " A = \\begin{pmatrix}\n",
        " -24 & -6 \\\\\n",
        " -2 & -4\n",
        " \\end{pmatrix}; \\\n",
        " b = \\begin{pmatrix}\n",
        " 3 \\\\\n",
        " -3\n",
        " \\end{pmatrix}\n",
        "$$\n",
        "\n",
        "Найдем решение $Ax = b$\n",
        "\n",
        "$$\n",
        "\\begin{pmatrix}\n",
        "-24 & -6 \\\\\n",
        "-2 & -4\n",
        "\\end{pmatrix}\n",
        "\\cdot\n",
        "X\n",
        "=\n",
        "\\begin{pmatrix}\n",
        "3 \\\\\n",
        "-3\n",
        "\\end{pmatrix}\n",
        "$$\n",
        "\n",
        "$$\n",
        "X\n",
        "=\n",
        "\\frac{1}{84}\n",
        "\\cdot\n",
        "\\begin{pmatrix}\n",
        "-4 & 6 \\\\\n",
        "2 & -24\n",
        "\\end{pmatrix}\n",
        "\\cdot\n",
        "\\begin{pmatrix}\n",
        "3 \\\\\n",
        "-3\n",
        "\\end{pmatrix}\n",
        "$$\n",
        "\n",
        "$$\n",
        "X\n",
        "=\n",
        "\\begin{pmatrix}\n",
        "\\frac{-5}{14} \\\\\n",
        "\\frac{13}{14}\n",
        "\\end{pmatrix}\n",
        "$$\n",
        "\n",
        "Введем:\n",
        "\n",
        "$$\n",
        " \\Delta A = \\begin{pmatrix}\n",
        " -3\\varepsilon_1  & 2\\varepsilon_2 \\\\\n",
        " 0 & \\varepsilon_1\n",
        " \\end{pmatrix}; \\\n",
        " \\Delta b = \\begin{pmatrix}\n",
        " \\varepsilon_3 \\\\\n",
        " \\varepsilon_4\n",
        " \\end{pmatrix}\n",
        "$$\n",
        "\n",
        "Аналогично предыдущему заданию посчитаем $\n",
        "\\delta X \\le K(A) (\\delta A + \\delta b)\n",
        "$, где $K_*(A) = ||A^{-1}||_* \\cdot ||A||_*$"
      ],
      "metadata": {
        "id": "JHgIPcF3oGFi"
      }
    },
    {
      "cell_type": "code",
      "source": [
        "e1, e2, e3, e4 = sp.symbols('epsilon_1 epsilon_2 epsilon_3 epsilon_4')\n",
        "\n",
        "A = sp.Matrix([[-24, -6], [-2, -4]])\n",
        "b = sp.Matrix([[3], [-3]])"
      ],
      "metadata": {
        "id": "LR5GhJdbqyk5"
      },
      "execution_count": null,
      "outputs": []
    },
    {
      "cell_type": "code",
      "source": [
        "def count_norm(eps1, eps2, eps3, eps4, norm_id):\n",
        "  dA = sp.Matrix([[-3 * eps1, 2 * eps2], [0, eps1]])\n",
        "  db = sp.Matrix([[eps3], [eps4]])\n",
        "\n",
        "  A_norm = A.norm(norm_id)\n",
        "  b_norm = b.norm(norm_id)\n",
        "\n",
        "  A_inv_norm = (A ** (-1)).norm(norm_id)\n",
        "\n",
        "  dA_norm = dA.norm(norm_id)\n",
        "  db_norm = db.norm(norm_id)\n",
        "\n",
        "  K_norm = A_norm * A_inv_norm\n",
        "\n",
        "  deltaA_norm = dA_norm / A_norm\n",
        "  deltab_norm = db_norm / b_norm\n",
        "  deltaX_norm = K_norm * (deltaA_norm + deltab_norm)\n",
        "\n",
        "  print(f'Относительная погрешность решения по |·|_{norm_id}')\n",
        "  display(sp.simplify(deltaX_norm).evalf(5))"
      ],
      "metadata": {
        "id": "UYdePBdbp9mp"
      },
      "execution_count": null,
      "outputs": []
    },
    {
      "cell_type": "markdown",
      "source": [
        "Наибольшее значение по нормам $|·|_2$ и $|·|_{\\infty}$ достигается при максимальных значениях $\\varepsilon_1$ и $\\varepsilon_2$, которые равны 0.05"
      ],
      "metadata": {
        "id": "SRKki6SfsjDk"
      }
    },
    {
      "cell_type": "code",
      "source": [
        "e1 = 0.05\n",
        "e2 = 0.05\n",
        "e3 = 0.05\n",
        "e4 = 0.05\n",
        "\n",
        "count_norm(e1, e2, e3, e4, 2)\n",
        "count_norm(e1, e2, e3, e4, +sp.oo)\n",
        "print(\"\\n\")"
      ],
      "metadata": {
        "colab": {
          "base_uri": "https://localhost:8080/",
          "height": 127
        },
        "id": "4iGYaxnpqjnl",
        "outputId": "ff58f6de-ed8e-41f2-98a7-ed0cc8e28557"
      },
      "execution_count": null,
      "outputs": [
        {
          "output_type": "stream",
          "name": "stdout",
          "text": [
            "Относительная погрешность решения по |·|_2\n"
          ]
        },
        {
          "output_type": "display_data",
          "data": {
            "text/plain": [
              "0.17727"
            ],
            "text/latex": "$\\displaystyle 0.17727$"
          },
          "metadata": {}
        },
        {
          "output_type": "stream",
          "name": "stdout",
          "text": [
            "Относительная погрешность решения по |·|_oo\n"
          ]
        },
        {
          "output_type": "display_data",
          "data": {
            "text/plain": [
              "0.23214"
            ],
            "text/latex": "$\\displaystyle 0.23214$"
          },
          "metadata": {}
        },
        {
          "output_type": "stream",
          "name": "stdout",
          "text": [
            "\n",
            "\n"
          ]
        }
      ]
    },
    {
      "cell_type": "code",
      "source": [
        "display(A.solve(b))\n",
        "print('\\n')"
      ],
      "metadata": {
        "colab": {
          "base_uri": "https://localhost:8080/",
          "height": 93
        },
        "id": "zlylGl3FsY2q",
        "outputId": "522684f1-2dea-4798-e851-83e3d38d40ef"
      },
      "execution_count": null,
      "outputs": [
        {
          "output_type": "display_data",
          "data": {
            "text/plain": [
              "Matrix([\n",
              "[-5/14],\n",
              "[13/14]])"
            ],
            "text/latex": "$\\displaystyle \\left[\\begin{matrix}- \\frac{5}{14}\\\\\\frac{13}{14}\\end{matrix}\\right]$"
          },
          "metadata": {}
        },
        {
          "output_type": "stream",
          "name": "stdout",
          "text": [
            "\n",
            "\n"
          ]
        }
      ]
    },
    {
      "cell_type": "markdown",
      "source": [
        "$\n",
        "X\n",
        "=\n",
        "\\begin{pmatrix}\n",
        "\\frac{-5}{14} \\\\\n",
        "\\frac{13}{14}\n",
        "\\end{pmatrix}\n",
        "$\n",
        "\n",
        "Погрешности по нормам равны $17.7\\%$ и $23.2\\%$ соответственно."
      ],
      "metadata": {
        "id": "ZhuF5ZEWqjIW"
      }
    },
    {
      "cell_type": "markdown",
      "source": [
        "# Задание 4"
      ],
      "metadata": {
        "id": "Q6YRoYbWvKiz"
      }
    },
    {
      "cell_type": "markdown",
      "source": [
        "Найдите приближённо обратную матрицу к матрице A и оцените погрешность приближения относительно равномерной нормы $||⋅||_1$, если элементы матрицы A известны с абсолютной погрешностью $\\varepsilon = 0.01$:\n",
        "$$\n",
        "A = \\begin{pmatrix} -1 & 5 \\\\ -2 & -6 \\end{pmatrix}\n",
        "$$\n",
        "\n",
        "Найдем обратную матрицу:\n",
        "\n",
        "$$\n",
        "A^{-1} = \\frac{1}{(-1) \\cdot (-6) - (-2) \\cdot 5} \\cdot \\begin{pmatrix} -6 & -5 \\\\ 2 & -1 \\end{pmatrix} = \\frac{1}{16} \\cdot \\begin{pmatrix} -6 & -5 \\\\ 2 & -1 \\end{pmatrix}\n",
        "$$\n",
        "\n",
        "$$\n",
        "A^{-1} =\n",
        "\\begin{pmatrix}\n",
        "\\frac{-3}{8} & \\frac{-5}{16} \\\\\n",
        "\\frac{1}{8} & \\frac{-1}{16}\n",
        "\\end{pmatrix}\n",
        "$$\n",
        "\n",
        "$\n",
        "\\delta A^{-1} = \\frac{||(A + \\mathcal{E})^{-1} - A^{-1}||}{||A^{-1}||_1} =\n",
        "\\frac{||- A^{-1}(E - A(A + \\mathcal{E})^{-1})||}{||A^{-1}||_1} =\n",
        "\\frac{||- A^{-1}(E - (E + \\mathcal{E}A^{-1})^{-1})||}{||A^{-1}||_1} \\le\n",
        "{||E - (E + \\mathcal{E}A^{-1})^{-1}||} \\le\n",
        "\\frac{K(A) \\delta(A)}{1 - K(A) \\delta(A)} ≈\n",
        "{K(A) \\delta(A)}\n",
        "$"
      ],
      "metadata": {
        "id": "CbK11qZ2vRO9"
      }
    },
    {
      "cell_type": "code",
      "source": [
        "A = sp.Matrix([[-1, 5], [-2, -6]])\n",
        "dA = sp.Matrix([[0.01, 0.01], [0.01, 0.01]])\n",
        "\n",
        "A_norm = A.norm(1)\n",
        "A_inv_norm = (A ** (-1)).norm(1)\n",
        "dA_norm = dA.norm(1)\n",
        "deltaA = dA_norm / A_norm\n",
        "K_norm = A_norm * A_inv_norm\n",
        "\n",
        "deltaA_inv = K_norm * deltaA / (1 - K_norm * deltaA)\n",
        "print(\"Погрешность:\")\n",
        "display(deltaA_inv)\n",
        "print(\"Погрешность с округленнием:\")\n",
        "display(K_norm * deltaA)\n",
        "print(\"\\n\")"
      ],
      "metadata": {
        "colab": {
          "base_uri": "https://localhost:8080/",
          "height": 127
        },
        "id": "-I_5zUeyvlHm",
        "outputId": "285c322e-5dba-42c7-d7b1-406a951e1bd7"
      },
      "execution_count": null,
      "outputs": [
        {
          "output_type": "stream",
          "name": "stdout",
          "text": [
            "Погрешность:\n"
          ]
        },
        {
          "output_type": "display_data",
          "data": {
            "text/plain": [
              "0.0101010101010101"
            ],
            "text/latex": "$\\displaystyle 0.0101010101010101$"
          },
          "metadata": {}
        },
        {
          "output_type": "stream",
          "name": "stdout",
          "text": [
            "Погрешность с округленнием:\n"
          ]
        },
        {
          "output_type": "display_data",
          "data": {
            "text/plain": [
              "0.0100000000000000"
            ],
            "text/latex": "$\\displaystyle 0.01$"
          },
          "metadata": {}
        },
        {
          "output_type": "stream",
          "name": "stdout",
          "text": [
            "\n",
            "\n"
          ]
        }
      ]
    },
    {
      "cell_type": "markdown",
      "source": [
        "Погрешность примерно равна 1.01%\n",
        "\n",
        "$$\n",
        "A^{-1} =\n",
        "\\begin{pmatrix}\n",
        "\\frac{-3}{8} & \\frac{-5}{16} \\\\\n",
        "\\frac{1}{8} & \\frac{-1}{16}\n",
        "\\end{pmatrix}\n",
        "$$"
      ],
      "metadata": {
        "id": "8klDsuG-0KdL"
      }
    },
    {
      "cell_type": "markdown",
      "source": [
        "# Задание 5\n"
      ],
      "metadata": {
        "id": "SG-NB0OK1No9"
      }
    },
    {
      "cell_type": "markdown",
      "source": [
        "Решите систему линейных уравнений методом простых итераций:\n",
        "$$\n",
        "\\begin{cases}\n",
        "20x + 3y + 3z = 3 \\\\\n",
        "6x + 22y + 5z = 6 \\\\\n",
        "4x + 2y + 24z = 4\n",
        "\\end{cases}\n",
        "$$\n",
        "Определите номер итерации, после которой погрешность приближения по каждой координате не превосходит $0.01$ и найдите соответствующее приближенное решение. Начните с $x_0 = [0, 0, 0]^T$.\n",
        "\n",
        "Рассмотрим последовательность $x_0$, $G(x_0)$, $G(G(x_0))$ и т. д.\n",
        "\n",
        "Если существует $\\lim_{n\\rightarrow \\infty} x_n = \\hat{x}$, то $\\hat{x} = G(\\hat{x})$ - решение системы\n",
        "\n",
        "Пусть $A = M - N$, где M - обратимая, тогда:\n",
        "\n",
        "$(M - N)x = b$\n",
        "\n",
        "$x = M^{-1}Nx + M^{-1}b$\n",
        "\n",
        "$P = M^{-1}N, b_{new} = M^{-1}b$\n",
        "\n",
        "$x = Px + b_{new}$\n",
        "\n",
        "Возьмем $M = D (диагональ A)$ по методу Якоби\n",
        "\n",
        "$ M =\n",
        "\\begin{pmatrix}\n",
        "20 & 0 & 0 \\\\\n",
        "0 & 22 & 0 \\\\\n",
        "0 & 0 & 24\n",
        "\\end{pmatrix}\n",
        "$\n",
        "\n",
        "$A = M - N$ $⇒$ $N = M - A$\n"
      ],
      "metadata": {
        "id": "meJw6yed1RPm"
      }
    },
    {
      "cell_type": "code",
      "source": [
        "A = sp.Matrix([[20, 3, 3], [6, 22, 5], [4, 2, 24]])\n",
        "b = sp.Matrix([[3], [6], [4]])\n",
        "M = sp.Matrix([[20, 0, 0], [0, 22, 0], [0, 0, 24]])\n",
        "x = sp.Matrix([[0], [0], [0]])\n",
        "N = M - A\n",
        "\n",
        "P = M ** (-1) @ N\n",
        "b_new = M ** (-1) @ b\n",
        "\n",
        "cnt = 1\n",
        "x_new = P @ x + b_new\n",
        "\n",
        "while (x_new - x).norm(+sp.oo) / (1 - P.norm(+sp.oo)) > 0.01:\n",
        "  cnt += 1\n",
        "  x, x_new = x_new, P @ x_new + b_new\n",
        "\n",
        "print(\"Количесво итераций: \", cnt)\n",
        "display(x.evalf(5))\n",
        "print(\"\\n\")"
      ],
      "metadata": {
        "colab": {
          "base_uri": "https://localhost:8080/",
          "height": 130
        },
        "id": "S18HJsIp1pux",
        "outputId": "798e621a-4f6f-4487-e208-00e1bebb437c"
      },
      "execution_count": null,
      "outputs": [
        {
          "output_type": "stream",
          "name": "stdout",
          "text": [
            "Количесво итераций:  5\n"
          ]
        },
        {
          "output_type": "display_data",
          "data": {
            "text/plain": [
              "Matrix([\n",
              "[0.096112],\n",
              "[  0.2136],\n",
              "[ 0.13093]])"
            ],
            "text/latex": "$\\displaystyle \\left[\\begin{matrix}0.096112\\\\0.2136\\\\0.13093\\end{matrix}\\right]$"
          },
          "metadata": {}
        },
        {
          "output_type": "stream",
          "name": "stdout",
          "text": [
            "\n",
            "\n"
          ]
        }
      ]
    },
    {
      "cell_type": "markdown",
      "source": [
        "Проверка"
      ],
      "metadata": {
        "id": "Ermg_ibb7LGD"
      }
    },
    {
      "cell_type": "code",
      "source": [
        "res = A.solve(b)\n",
        "res = res.evalf(5)\n",
        "display(res - x.evalf(5))\n",
        "print(\"\\n\")"
      ],
      "metadata": {
        "colab": {
          "base_uri": "https://localhost:8080/",
          "height": 113
        },
        "id": "2pmbymD16F4T",
        "outputId": "e248a129-b033-427e-c149-e195f955d6ee"
      },
      "execution_count": null,
      "outputs": [
        {
          "output_type": "display_data",
          "data": {
            "text/plain": [
              "Matrix([\n",
              "[0.0016336],\n",
              "[0.0023863],\n",
              "[ 0.001452]])"
            ],
            "text/latex": "$\\displaystyle \\left[\\begin{matrix}0.0016336\\\\0.0023863\\\\0.001452\\end{matrix}\\right]$"
          },
          "metadata": {}
        },
        {
          "output_type": "stream",
          "name": "stdout",
          "text": [
            "\n",
            "\n"
          ]
        }
      ]
    },
    {
      "cell_type": "markdown",
      "source": [
        "Потребовалось 5 итераций, чтобы нати решение\n",
        "$X = \\begin{pmatrix}\n",
        "0.09611 \\\\\n",
        "0.2136 \\\\\n",
        "0.13093 \\\\\n",
        "\\end{pmatrix}$\n",
        "\n",
        "  \n"
      ],
      "metadata": {
        "id": "Yu4LXVbx7zyj"
      }
    },
    {
      "cell_type": "markdown",
      "source": [
        "# Задание 6"
      ],
      "metadata": {
        "id": "gB0hxFWU8ZOE"
      }
    },
    {
      "cell_type": "markdown",
      "source": [
        "Найдите наиболее влиятельную вершину графа, используя алгоритм\n",
        "PageRank с коэффициентом затухания равным $\\alpha = 1 - \\beta = 0.85$, где\n",
        "матрица смежности графа:\n",
        "$$ A =\n",
        "\\begin{bmatrix}\n",
        "0 & 0 & 0 & 0 & 1 \\\\\n",
        "1 & 0 & 1 & 1 & 0 \\\\\n",
        "1 & 1 & 0 & 0 & 1 \\\\\n",
        "1 & 0 & 0 & 1 & 1 \\\\\n",
        "1 & 0 & 0 & 0 & 0\n",
        "\\end{bmatrix}\n",
        "$$\n",
        "\n",
        "Шаги алгоритма:\n",
        "\n",
        "1. Сначала нормализуем матрицу смежности\n",
        "2. Затем создадим вектор PageRank, изначально с равными значениями для всех узлов: $pr_{i} = 1 / n$, где n - количесво вершин в графе\n",
        "3. Теперь будем итеративно применять формулу PageRank: $pr_{new} = (1-α) / n + α \\cdot M \\cdot pr$ Мы будем повторять этот шаг, пока разница между новым и старым вектором PR не станет меньше некоторого малого числа (например, 1e-8)\n",
        "4. После сходимости, узел с наибольшим значением PR будет наиболее влиятельным."
      ],
      "metadata": {
        "id": "OK2b7kY98hnk"
      }
    },
    {
      "cell_type": "code",
      "source": [
        "import numpy as np\n",
        "\n",
        "A = np.array([\n",
        "    [0, 0, 0, 0, 1],\n",
        "    [1, 0, 1, 1, 0],\n",
        "    [1, 1, 0, 0, 1],\n",
        "    [1, 0, 0, 1, 1],\n",
        "    [1, 0, 0, 0, 0]\n",
        "])\n",
        "\n",
        "alpha = 0.85\n",
        "n = A.shape[0]\n",
        "\n",
        "M = A / A.sum(axis=0)\n",
        "\n",
        "pr = np.ones(n) / n\n",
        "\n",
        "while True:\n",
        "    pr_new = (1-alpha) / n + alpha * M @ pr\n",
        "    if np.sum(np.abs(pr_new - pr)) < 1e-8:\n",
        "        break\n",
        "    pr = pr_new\n",
        "\n",
        "print(\"PageRank значения:\")\n",
        "for i, value in enumerate(pr):\n",
        "    print(f\"Вершина {i+1}: {value:.4f}\")\n",
        "\n",
        "print(f\"\\nСамая влиятельная вершина: {np.argmax(pr)+1}\")\n",
        "print(\"\\n\")"
      ],
      "metadata": {
        "colab": {
          "base_uri": "https://localhost:8080/"
        },
        "id": "UABaugUT84Pf",
        "outputId": "fafbdf72-df7b-491b-a813-18baf19747a6"
      },
      "execution_count": null,
      "outputs": [
        {
          "output_type": "stream",
          "name": "stdout",
          "text": [
            "PageRank значения:\n",
            "Вершина 1: 0.0410\n",
            "Вершина 2: 0.4239\n",
            "Вершина 3: 0.4100\n",
            "Вершина 4: 0.0864\n",
            "Вершина 5: 0.0387\n",
            "\n",
            "Самая влиятельная вершина: 2\n",
            "\n",
            "\n"
          ]
        }
      ]
    },
    {
      "cell_type": "markdown",
      "source": [
        "Самая влиятельная вершина: 2"
      ],
      "metadata": {
        "id": "xppSypqeCFSs"
      }
    },
    {
      "cell_type": "markdown",
      "source": [
        "#Задание 7"
      ],
      "metadata": {
        "id": "A_zZZOPBAfCV"
      }
    },
    {
      "cell_type": "markdown",
      "source": [
        "Найти значение $f(A)$ для функции $f(l) = ln(l + 5)$, где\n",
        "$ A =\n",
        "\\begin{pmatrix}\n",
        "0 & 0 & -1 \\\\\n",
        "1 & -1 & 3 \\\\\n",
        "1 & -4 & 6\n",
        "\\end{pmatrix}\n",
        "$\n"
      ],
      "metadata": {
        "id": "QR4nTdySAyWu"
      }
    },
    {
      "cell_type": "code",
      "source": [
        "A = sp.Matrix([\n",
        "    [0, 0, -1],\n",
        "    [1, -1, 3],\n",
        "    [1, -4, 6]\n",
        "])\n",
        "\n",
        "eigen_info = A.eigenvects()\n",
        "eigenvalues = [item[0] for item in eigen_info for _ in range(item[1])]\n",
        "eigenvectors = [list(item[2][0]) for item in eigen_info for _ in range(item[1])]\n",
        "\n",
        "display(eigenvalues)\n",
        "display(eigenvectors)\n",
        "print(\"\\n\")"
      ],
      "metadata": {
        "colab": {
          "base_uri": "https://localhost:8080/",
          "height": 86
        },
        "id": "AY9GaN6JIJi0",
        "outputId": "e1e554dc-44d4-4274-f765-39a4b8a34274"
      },
      "execution_count": null,
      "outputs": [
        {
          "output_type": "display_data",
          "data": {
            "text/plain": [
              "[1, 1, 3]"
            ]
          },
          "metadata": {}
        },
        {
          "output_type": "display_data",
          "data": {
            "text/plain": [
              "[[-1, 1, 1], [-1, 1, 1], [-1/3, 2/3, 1]]"
            ]
          },
          "metadata": {}
        },
        {
          "output_type": "stream",
          "name": "stdout",
          "text": [
            "\n",
            "\n"
          ]
        }
      ]
    },
    {
      "cell_type": "markdown",
      "source": [
        "$|\\lambda E - A| = (\\lambda - 1)^{2} \\cdot (\\lambda - 3)$\n",
        "\n",
        "Характеристический многочлен имеет кратные корни, поэтому воспользуемся многочленом Лагранжа-Сильвестра. Тогда:\n",
        "\n",
        "$$\n",
        "r(\\lambda) = \\sum_{k=1}^s f(\\lambda_k) \\varphi_{k1}(\\lambda) + f'(\\lambda_k) \\varphi_{k2}(\\lambda) + ... + f^{(m_k - 1)} (\\lambda_k) \\varphi_{km_k} (\\lambda)\n",
        "$$\n",
        "\n",
        "$$\n",
        "f(A) = \\sum_{k=1}^s f(\\lambda_k) Z_{k1} + f'(\\lambda_k) Z_{k2} + ... + f^{(m_k - 1)} (\\lambda_k) Z_{km_k}\n",
        "$$"
      ],
      "metadata": {
        "id": "OFfxOnMAQcFc"
      }
    },
    {
      "cell_type": "markdown",
      "source": [
        "![image.png](data:image/png;base64,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)\n",
        "\n",
        "\n",
        "![image.png](data:image/png;base64,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)"
      ],
      "metadata": {
        "id": "OeVGRSeDXfmB"
      }
    },
    {
      "cell_type": "code",
      "source": [
        "A = sp.Matrix([\n",
        "    [0, 0, -1],\n",
        "    [1, -1, 3],\n",
        "    [1, -4, 6]\n",
        "])\n",
        "\n",
        "E = sp.diag([1],[1],[1])\n",
        "\n",
        "display(A - E)\n",
        "display((A - E) ** 2)\n",
        "print(\"\\n\")"
      ],
      "metadata": {
        "colab": {
          "base_uri": "https://localhost:8080/",
          "height": 174
        },
        "id": "BuRRLlWFZnYr",
        "outputId": "3fe06e4e-aba4-427e-b05a-97256655eec5"
      },
      "execution_count": null,
      "outputs": [
        {
          "output_type": "display_data",
          "data": {
            "text/plain": [
              "Matrix([\n",
              "[-1,  0, -1],\n",
              "[ 1, -2,  3],\n",
              "[ 1, -4,  5]])"
            ],
            "text/latex": "$\\displaystyle \\left[\\begin{matrix}-1 & 0 & -1\\\\1 & -2 & 3\\\\1 & -4 & 5\\end{matrix}\\right]$"
          },
          "metadata": {}
        },
        {
          "output_type": "display_data",
          "data": {
            "text/plain": [
              "Matrix([\n",
              "[0,   4, -4],\n",
              "[0,  -8,  8],\n",
              "[0, -12, 12]])"
            ],
            "text/latex": "$\\displaystyle \\left[\\begin{matrix}0 & 4 & -4\\\\0 & -8 & 8\\\\0 & -12 & 12\\end{matrix}\\right]$"
          },
          "metadata": {}
        },
        {
          "output_type": "stream",
          "name": "stdout",
          "text": [
            "\n",
            "\n"
          ]
        }
      ]
    },
    {
      "cell_type": "markdown",
      "source": [
        "$f(A) = f(1) Z_{11} + f'(1) Z_{12} + f(3) Z_{21}$\n",
        "\n",
        "Тогда:\n",
        "\n",
        "$ln(A + 5) = ln(6) Z_{11} + \\frac{1}{6} Z_{12} + ln(8) Z_{21}$"
      ],
      "metadata": {
        "id": "XS7DsrAFYFdE"
      }
    },
    {
      "cell_type": "markdown",
      "source": [
        "Подставим в $f(\\lambda)$ последовательно $1, \\lambda - 1 \\ и  \\ (\\lambda - 1)^2$"
      ],
      "metadata": {
        "id": "beNa4PjOc9D5"
      }
    },
    {
      "cell_type": "markdown",
      "source": [
        "$\n",
        "f_1(A) = E =\n",
        "\\begin{pmatrix}\n",
        "1 & 0 & 0 \\\\\n",
        "0 & 1 & 0 \\\\\n",
        "0 & 0 & 1\n",
        "\\end{pmatrix}=  z_{11} + z_{21} \\\\\n",
        "$\n",
        "\n",
        "$\n",
        "f_2(A) = A - E =\n",
        "\\begin{pmatrix}\n",
        "-1 & 0 & -1 \\\\\n",
        "1 & -2 & 3 \\\\\n",
        "1 & -4 & 5\n",
        "\\end{pmatrix} = z_{12} + 2z_{21}\\\\\n",
        "$\n",
        "\n",
        "$\n",
        "f_3(A) = (A - E)^2 =\n",
        "\\begin{pmatrix}\n",
        "0 & 4 & -4 \\\\\n",
        "0 & -8 & 8 \\\\\n",
        "0 & -12 & 12\n",
        "\\end{pmatrix} = 4z_{21}\\\\\n",
        "$\n"
      ],
      "metadata": {
        "id": "2wV6A-w3Zh8j"
      }
    },
    {
      "cell_type": "markdown",
      "source": [
        "$\n",
        "Z_{11} =\n",
        "\\begin{pmatrix}\n",
        "1 & -1 & 1 \\\\\n",
        "0 & 3 & -2 \\\\\n",
        "0 & 3 & -2\n",
        "\\end{pmatrix}\n",
        "$\n",
        "\n",
        "$\n",
        "Z_{12} =\n",
        "\\begin{pmatrix}\n",
        "-1 & -2 & 1 \\\\\n",
        "1 & 2 & -1 \\\\\n",
        "1 & 2 & -1\n",
        "\\end{pmatrix}\n",
        "$\n",
        "\n",
        "$\n",
        "Z_{21} =\n",
        "\\begin{pmatrix}\n",
        "0 & 1 & -1 \\\\\n",
        "0 & -2 & 2 \\\\\n",
        "0 & -3 & 3\n",
        "\\end{pmatrix}\n",
        "$"
      ],
      "metadata": {
        "id": "4SBeS79qhUWV"
      }
    },
    {
      "cell_type": "markdown",
      "source": [
        "$$\n",
        "ln(A + 5) = ln(6) \\cdot\n",
        "\\begin{pmatrix}\n",
        "1 & -1 & 1 \\\\\n",
        "0 & 3 & -2 \\\\\n",
        "0 & 3 & -2\n",
        "\\end{pmatrix}\n",
        "+ \\frac{1}{6} \\cdot\n",
        "\\begin{pmatrix}\n",
        "-1 & -2 & 1 \\\\\n",
        "1 & 2 & -1 \\\\\n",
        "1 & 2 & -1\n",
        "\\end{pmatrix}\n",
        "+ ln(8) \\cdot\n",
        "\\begin{pmatrix}\n",
        "0 & 1 & -1 \\\\\n",
        "0 & -2 & 2 \\\\\n",
        "0 & -3 & 3\n",
        "\\end{pmatrix}\n",
        "$$"
      ],
      "metadata": {
        "id": "xyPhdfhhgJuT"
      }
    }
  ]
}